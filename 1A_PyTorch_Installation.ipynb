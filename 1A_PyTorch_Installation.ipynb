{
 "cells": [
  {
   "cell_type": "markdown",
   "metadata": {},
   "source": [
    "# PyTorch Installation"
   ]
  },
  {
   "cell_type": "markdown",
   "metadata": {},
   "source": [
    "A walkthrough to install PyTorch for Python 3.6. If you already have PyTorch on your machine and feel confident in your installation, you can go ahead and skip this notebook.\n",
    "\n",
    "For the purposes of this tutorial, I'm recommending using Anaconda as your Python distribution and for managing your environments. If you'd rather use some other distribution or version of Python and feel confident in your abilities, you may also choose to just follow the instructions here: https://pytorch.org/get-started/locally/."
   ]
  },
  {
   "cell_type": "markdown",
   "metadata": {},
   "source": [
    "### Install Anaconda\n",
    "Download and install Anaconda. A more detailed version of the below steps specifically for Windows (macOS and Linux instructions are similar) can be found [here](https://www.datacamp.com/community/tutorials/installing-anaconda-windows) if you need additional assistance.\n",
    "\n",
    "1. Go to the [Anaconda install page](https://www.anaconda.com/distribution/) and click on the Python 3.7 installer matching your operating system (e.g. Windows, macOS, Linux) and system architecture (likely 64-bit X86).\n",
    "    \n",
    "2. Open the installer from your downloads folder and run it by double clicking on it. \n",
    "    \n",
    "3. Follow the installer's instructions. \n",
    "    \n",
    "*Note: there is an option at one point to add Anaconda to PATH. While the installer recommends against this option (it's possible it may interfere with your other software), we typically recommend doing so, as it makes accessing Anaconda commands easier. The rest of this tutorial assumes that this option has been selected.*"
   ]
  },
  {
   "cell_type": "markdown",
   "metadata": {},
   "source": [
    "### Set-up a conda environment\n",
    "\n",
    "1. Open a Command Prompt (Windows) or a terminal (macOS or Linux)\n",
    "\n",
    "    *Note: If you chose not to add Anaconda to PATH during Anaconda installation above, you will need to use the Anaconda Command Prompt instead.*\n",
    "2. Create a conda environment for PyTorch:\n",
    "    ```Shell\n",
    "    conda create -n pytorch python=3.6\n",
    "    ```\n",
    "3. Activate your new environment:\n",
    "\n",
    "    ```Shell \n",
    "    conda activate pytorch\n",
    "    ```\n",
    "4. Install some supporting dependencies\n",
    "    ```Shell\n",
    "    conda install h5py imageio jupyter matplotlib numpy tqdm\n",
    "    ```\n",
    "\n",
    "5. Install either the CPU version or GPU version of PyTorch:\n",
    "\n",
    "    CPU: *(Recommended as sufficient for this class)*\n",
    "    ```Shell\n",
    "    # Windows/Linux\n",
    "    conda install pytorch torchvision cpuonly -c pytorch\n",
    "    \n",
    "    # macOS\n",
    "    conda install pytorch torchvision -c pytorch\n",
    "    ```\n",
    "    \n",
    "    GPU: (You'll also need to install some [Nvidia software](https://developer.nvidia.com/cuda-10.1-download-archive-base))\n",
    "    ```Shell\n",
    "    # Windows/Linx, assuming CUDA 10.1\n",
    "    conda install pytorch torchvision cudatoolkit=10.1 -c pytorch\n",
    "    \n",
    "    # macOS \n",
    "    # Trickier. May require installing from source. See PyTorch docs.\n",
    "    ```\n",
    "\n",
    "    *Note: If you have GPUs available, you should use the GPU version for any serious research or application, as it can be significantly faster. For the purposes of this demo though, the CPU version is sufficent.*"
   ]
  },
  {
   "cell_type": "markdown",
   "metadata": {},
   "source": [
    "### Verify PyTorch Installation"
   ]
  },
  {
   "cell_type": "markdown",
   "metadata": {},
   "source": [
    "1. While in your `pytorch` environment, enter the Python shell with:\n",
    "    \n",
    "    ```Shell\n",
    "    python\n",
    "    ```\n",
    "    \n",
    "    Verify that your python version says Python 3.6.[x].\n",
    "    \n",
    "2. Enter this program into your Python shell:\n",
    "\n",
    "    ```Shell\n",
    "    import torch\n",
    "    print(torch.__version__)\n",
    "    x = torch.rand(2, 3)\n",
    "    print(x)\n",
    "    ```\n",
    "    \n",
    "    Your command line should return something like:\n",
    "    \n",
    "    ```Shell\n",
    "    1.3.1\n",
    "    tensor([[0.3651, 0.7264, 0.9823],\n",
    "            [0.5398, 0.2145, 0.3616]])\n",
    "    ```   \n",
    "    \n",
    "    The version returned will depend on what the current stable version of PyTorch is when you perform your install. \n",
    "    As long as it's 1.[x].[y], these notebooks should work fine. \n",
    "    The numbers in the tensor `x` will be random, so as long as the print returns a 2x3 `tensor` of random values, you're in good shape."
   ]
  }
 ],
 "metadata": {
  "kernelspec": {
   "display_name": "Python 3",
   "language": "python",
   "name": "python3"
  },
  "language_info": {
   "codemirror_mode": {
    "name": "ipython",
    "version": 3
   },
   "file_extension": ".py",
   "mimetype": "text/x-python",
   "name": "python",
   "nbconvert_exporter": "python",
   "pygments_lexer": "ipython3",
   "version": "3.6.9"
  }
 },
 "nbformat": 4,
 "nbformat_minor": 1
}
